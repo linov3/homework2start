{
 "cells": [
  {
   "cell_type": "markdown",
   "metadata": {},
   "source": [
    "# Problem 1"
   ]
  },
  {
   "cell_type": "code",
   "execution_count": 20,
   "metadata": {},
   "outputs": [],
   "source": [
    "## Student Name: Lara Novic\n",
    "## Date: 10/15/2017\n",
    "## Homework 2, Problem 1, Methods in Computational Linguistics I, Fall 2017\n",
    "## Chapter 5, Programming Exercise 4 (page 171) \"Acronyms\"\n",
    "##\n",
    "## What Does this Program Do:\n",
    "## This is a program that turns a phrase\n",
    "## into an acronym\n",
    "## \n",
    "## Input:\n",
    "## Phrase\n",
    "\n",
    "def make_acronym():\n",
    "    ## print introduction\n",
    "    print(\"This is a program that turns a phrase\")\n",
    "    print(\"into an acronym.\")\n",
    "    ## print blank space\n",
    "    print(\"\")\n",
    "    ## print phrases to be turned into acronyms\n",
    "    print(\"For the following phrases:\")\n",
    "    phrase_1=(\"   random access memory\")\n",
    "    phrase_2=(\"   information technology\")\n",
    "    phrase_3=(\"   graphics interchange format\")\n",
    "    phrase_4=(\"   structured query language\")\n",
    "    \n",
    "    print(phrase_1)\n",
    "    print(phrase_2)\n",
    "    print(phrase_3)\n",
    "    print(phrase_4)\n",
    "    \n",
    "    ## convert phrases into acronyms\n",
    "    words_1=phrase_1.split() ## separates phrase into items\n",
    "    first_letters_1 = [item [0] for item in words_1] ## loop to pick out first letter of each word\n",
    "    joined_letters_1 = \"\".join(first_letters_1) ## combine first letters\n",
    "    capitalized_1 = joined_letters_1.upper()  ## capitalize\n",
    "    \n",
    "    words_2=phrase_2.split()\n",
    "    first_letters_2 = [item [0] for item in words_2]\n",
    "    joined_letters_2 = \"\".join(first_letters_2)\n",
    "    capitalized_2 = joined_letters_2.upper()\n",
    "    \n",
    "    words_3=phrase_3.split()\n",
    "    first_letters_3 = [item [0] for item in words_3]\n",
    "    joined_letters_3 = \"\".join(first_letters_3)\n",
    "    capitalized_3 = joined_letters_3.upper()\n",
    "    \n",
    "    words_4=phrase_4.split()\n",
    "    first_letters_4 = [item [0] for item in words_4]\n",
    "    joined_letters_4 = \"\".join(first_letters_4)\n",
    "    capitalized_4 = joined_letters_4.upper()\n",
    "    \n",
    "    ## print acronyms\n",
    "    print(\"\")\n",
    "    print(\"The acronyms are:\")\n",
    "    print(\"  \",capitalized_1)\n",
    "    print(\"  \",capitalized_2)\n",
    "    print(\"  \",capitalized_3)\n",
    "    print(\"  \",capitalized_4)"
   ]
  },
  {
   "cell_type": "code",
   "execution_count": 17,
   "metadata": {},
   "outputs": [
    {
     "name": "stdout",
     "output_type": "stream",
     "text": [
      "This is a program that turns a phrase\n",
      "into an acronym.\n",
      "\n",
      "For the following phrases:\n",
      "   random access memory\n",
      "   information technology\n",
      "   graphics interchange format\n",
      "   structured query language\n",
      "\n",
      "The acronyms are:\n",
      "   RAM\n",
      "   IT\n",
      "   GIF\n",
      "   SQL\n"
     ]
    }
   ],
   "source": [
    "## call program to run it:\n",
    "make_acronym()"
   ]
  },
  {
   "cell_type": "markdown",
   "metadata": {},
   "source": [
    "# Problem 2"
   ]
  },
  {
   "cell_type": "code",
   "execution_count": 73,
   "metadata": {},
   "outputs": [],
   "source": [
    "## Student Name: Lara Novic\n",
    "## Date: 10/15/2017\n",
    "## Homework 2, Problem 2, Methods in Computational Linguistics I, Fall 2017\n",
    "## Chapter 5, Programming Exercise 14 (page 173) \"Word Count\"\n",
    "##\n",
    "## What Does this Program Do:\n",
    "## This is a program that calculates a text file's\n",
    "## line count, word count and character count\n",
    "## \n",
    "## Input:\n",
    "## .txt file\n",
    "\n",
    "def get_count1():\n",
    "    print(\"This program calculates a text file's\")\n",
    "    print(\"line count, word count and character count.\")\n",
    "    print(\"\")\n",
    "    \n",
    "    file_path=\"sample1.txt\"\n",
    "    fopen=open(file_path)\n",
    "    content=fopen.read() ## pull content using \"read\"\n",
    "    \n",
    "    lines = fopen.readlines()\n",
    "    fopen.close()\n",
    "    split_content=content.split()\n",
    "    \n",
    "    ## find line count adapted from\n",
    "    ## https://stackoverflow.com/questions/845058/how-to-get-line-count-cheaply-in-python\n",
    "    num_of_lines = 1 + open('sample1.txt').read().count('\\n')\n",
    "    print(\"Lines in text file:\", num_of_lines)\n",
    "    \n",
    "    num_of_words = len(split_content)\n",
    "    print(\"Words in text file:\", num_of_words)\n",
    "    \n",
    "    num_of_chara = len(content)\n",
    "    print(\"Characters in text file:\", num_of_chara)"
   ]
  },
  {
   "cell_type": "code",
   "execution_count": 74,
   "metadata": {},
   "outputs": [
    {
     "name": "stdout",
     "output_type": "stream",
     "text": [
      "This program calculates a text file's\n",
      "line count, word count and character count.\n",
      "\n",
      "Lines in text file: 4\n",
      "Words in text file: 17\n",
      "Characters in text file: 90\n"
     ]
    }
   ],
   "source": [
    "## run program on sample1.txt\n",
    "get_count1()"
   ]
  },
  {
   "cell_type": "code",
   "execution_count": 82,
   "metadata": {
    "collapsed": true
   },
   "outputs": [],
   "source": [
    "def get_count2():\n",
    "    print(\"This program calculates a text file's\")\n",
    "    print(\"line count, word count and character count.\")\n",
    "    print(\"\")\n",
    "    \n",
    "    file_path=\"sample2.txt\"\n",
    "    fopen=open(file_path)\n",
    "    content=fopen.read() ## pull content using \"read\"\n",
    "    \n",
    "    lines = fopen.readlines()\n",
    "    fopen.close()\n",
    "    split_content=content.split()\n",
    "    \n",
    "    num_of_lines = 1 + open('sample2.txt').read().count('\\n')\n",
    "    print(\"Lines in text file:\", num_of_lines)\n",
    "    \n",
    "    num_of_words = len(split_content)\n",
    "    print(\"Words in text file:\", num_of_words)\n",
    "    \n",
    "    num_of_chara = len(content)\n",
    "    print(\"Characters in text file:\", num_of_chara)\n",
    "    "
   ]
  },
  {
   "cell_type": "code",
   "execution_count": 83,
   "metadata": {},
   "outputs": [
    {
     "name": "stdout",
     "output_type": "stream",
     "text": [
      "This program calculates a text file's\n",
      "line count, word count and character count.\n",
      "\n",
      "Lines in text file: 7\n",
      "Words in text file: 40\n",
      "Characters in text file: 223\n"
     ]
    }
   ],
   "source": [
    "## run program on sample2.txt\n",
    "get_count2()\n"
   ]
  },
  {
   "cell_type": "markdown",
   "metadata": {},
   "source": [
    "# Problem 3"
   ]
  },
  {
   "cell_type": "code",
   "execution_count": 92,
   "metadata": {},
   "outputs": [
    {
     "name": "stdout",
     "output_type": "stream",
     "text": [
      "This program indicates whether a speed is legal\n",
      "or prints a fine if the speed is illegal\n",
      "\n"
     ]
    }
   ],
   "source": [
    "## Student Name: Lara Novic\n",
    "## Date: 10/15/2017\n",
    "## Homework 2, Problem 3, Methods in Computational Linguistics I, Fall 2017\n",
    "## Problem 3 : Chapter 7, Programming Exercise 6 (page 239) \"Speed Limit\"\n",
    "##\n",
    "## What Does this Program Do:\n",
    "## This is a program that accepts a speed limit and clocked speed\n",
    "## and prints a message with a fine, if speed is illegal\n",
    "## or a message indicating speed is legal.\n",
    "## \n",
    "## Input:\n",
    "## speed limit, clocked speed\n",
    "\n",
    "\n",
    "print(\"This program indicates whether a speed is legal\")\n",
    "print(\"or prints a fine if the speed is illegal\")\n",
    "print(\"\")\n",
    "\n",
    "def speeding_ticket1():\n",
    "    speed_limit = 25\n",
    "    clocked_speed = 34\n",
    "    if clocked_speed > speed_limit:\n",
    "        fine = (clocked_speed - speed_limit) * 5 + 50\n",
    "        if clocked_speed > 90:\n",
    "            fine = fine + 200\n",
    "        print (\"You have to pay a fine of: $\"+str(fine))\n",
    "    else:\n",
    "        print (\"Legal speed\")\n",
    "        \n",
    "def speeding_ticket2():\n",
    "    speed_limit = 25\n",
    "    clocked_speed = 25\n",
    "    if clocked_speed > speed_limit:\n",
    "        fine = (clocked_speed - speed_limit) * 5 + 50\n",
    "        if clocked_speed > 90:\n",
    "            fine = fine + 200\n",
    "        print (\"You have to pay a fine of: $\"+str(fine))\n",
    "    else:\n",
    "        print (\"Legal speed\")\n",
    "\n",
    "def speeding_ticket3():\n",
    "    speed_limit = 60\n",
    "    clocked_speed = 93\n",
    "    if clocked_speed > speed_limit:\n",
    "        fine = (clocked_speed - speed_limit) * 5 + 50\n",
    "        if clocked_speed > 90:\n",
    "            fine = fine + 200\n",
    "        print (\"You have to pay a fine of: $\"+str(fine))\n",
    "    else:\n",
    "        print (\"Legal speed\")\n"
   ]
  },
  {
   "cell_type": "code",
   "execution_count": 93,
   "metadata": {},
   "outputs": [
    {
     "name": "stdout",
     "output_type": "stream",
     "text": [
      "You have to pay a fine of: $95\n",
      "Legal speed\n",
      "You have to pay a fine of: $415\n"
     ]
    }
   ],
   "source": [
    "speeding_ticket1()\n",
    "speeding_ticket2()\n",
    "speeding_ticket3()"
   ]
  },
  {
   "cell_type": "markdown",
   "metadata": {},
   "source": [
    "# Problem 4"
   ]
  },
  {
   "cell_type": "code",
   "execution_count": 254,
   "metadata": {},
   "outputs": [
    {
     "name": "stdout",
     "output_type": "stream",
     "text": [
      "Is the date valid?\n",
      "\n"
     ]
    }
   ],
   "source": [
    "## Student Name: Lara Novic\n",
    "## Date: 10/15/2017\n",
    "## Homework 2, Problem 4, Methods in Computational Linguistics I, Fall 2017\n",
    "## Chapter 7, Programming Exercise 12 (page 240) \"Valid or Invalid Dates\"\n",
    "##\n",
    "## What Does this Program Do:\n",
    "## This is a program that identifies\n",
    "## whether a date is valid\n",
    "## \n",
    "## Input:\n",
    "## month, date, year\n",
    "\n",
    "print (\"Is the date valid?\")\n",
    "print (\"\")\n",
    "\n",
    "def check_valid_date1():\n",
    "    date_str=\"6/24/1989\"\n",
    "    split_date=date_str.split(\"/\")\n",
    "\n",
    "    if len(split_date)==3:\n",
    "        date_split_int=[int(item) for item in split_date]\n",
    "        month,day,year=date_split_int\n",
    "        \n",
    "## leap year code adapted from:\n",
    "## https://stackoverflow.com/questions/11621740/how-to-determine-whether-a-year-is-a-leap-year-in-python\n",
    "    leap_year=False\n",
    "    if (year % 4 == 0 and year % 100 != 0) or (year % 400 == 0): leap_year=True\n",
    "        \n",
    "## check February\n",
    "    if month==2:\n",
    "            if month==2 and day==29 and leap_year:\n",
    "                print(date_str, \"is a valid date for February (leap year).\")\n",
    "            else:\n",
    "                print(date_str, \"is an invalid date.\")\n",
    "    elif month > 12:\n",
    "        print (date_str,\"is an invalid date. Max number of months is 12.\")\n",
    "    elif month in (4, 6, 9, 11) and day > 30:\n",
    "            print(date_str, \"is an invalid date. This is a 30-day month.\")\n",
    "    elif month in (1, 3, 5, 7, 8, 10, 12) and day > 31:\n",
    "            print(date_str, \"is an invalid date. This is a 31-day month.\")\n",
    "    else:\n",
    "        print (date_str, \"is a valid date.\")\n",
    "\n",
    "def check_valid_date2():\n",
    "    date_str=\"2/29/2000\"\n",
    "    split_date=date_str.split(\"/\")\n",
    "\n",
    "    if len(split_date)==3:\n",
    "        date_split_int=[int(item) for item in split_date]\n",
    "        month,day,year=date_split_int\n",
    "\n",
    "    leap_year=False\n",
    "    if (year % 4 == 0 and year % 100 != 0) or (year % 400 == 0): leap_year=True\n",
    "\n",
    "    if month==2:\n",
    "            if month==2 and day==29 and leap_year:\n",
    "                print(date_str, \"is a valid date for February (leap year).\")\n",
    "            else:\n",
    "                print(date_str, \"is an invalid date.\")\n",
    "    elif month > 12:\n",
    "        print (date_str,\"is an invalid date. Max number of months is 12.\")\n",
    "    elif month in (4, 6, 9, 11) and day > 30:\n",
    "            print(date_str, \"is an invalid date. This is a 30-day month.\")\n",
    "    elif month in (1, 3, 5, 7, 8, 10, 12) and day > 31:\n",
    "            print(date_str, \"is an invalid date. This is a 31-day month.\")\n",
    "    else:\n",
    "        print (date_str, \"is a valid date.\")\n",
    "\n",
    "def check_valid_date3():\n",
    "    date_str=\"3/29/1960\"\n",
    "    split_date=date_str.split(\"/\")\n",
    "\n",
    "    if len(split_date)==3:\n",
    "        date_split_int=[int(item) for item in split_date]\n",
    "        month,day,year=date_split_int\n",
    "\n",
    "    leap_year=False\n",
    "    if (year % 4 == 0 and year % 100 != 0) or (year % 400 == 0): leap_year=True\n",
    "\n",
    "    if month==2:\n",
    "            if month==2 and day==29 and leap_year:\n",
    "                print(date_str, \"is a valid date for February (leap year).\")\n",
    "            else:\n",
    "                print(date_str, \"is an invalid date.\")\n",
    "    elif month > 12:\n",
    "        print (date_str,\"is an invalid date. Max number of months is 12.\")\n",
    "    elif month in (4, 6, 9, 11) and day > 30:\n",
    "            print(date_str, \"is an invalid date. This is a 30-day month.\")\n",
    "    elif month in (1, 3, 5, 7, 8, 10, 12) and day > 31:\n",
    "            print(date_str, \"is an invalid date. This is a 31-day month.\")\n",
    "    else:\n",
    "        print (date_str, \"is a valid date.\")\n",
    "        \n",
    "def check_valid_date4():\n",
    "    date_str=\"11/39/1985\"\n",
    "    split_date=date_str.split(\"/\")\n",
    "\n",
    "    if len(split_date)==3:\n",
    "        date_split_int=[int(item) for item in split_date]\n",
    "        month,day,year=date_split_int\n",
    "\n",
    "    leap_year=False\n",
    "    if (year % 4 == 0 and year % 100 != 0) or (year % 400 == 0): leap_year=True\n",
    "\n",
    "    if month==2:\n",
    "            if month==2 and day==29 and leap_year:\n",
    "                print(date_str, \"is a valid date for February (leap year).\")\n",
    "            else:\n",
    "                print(date_str, \"is an invalid date.\")\n",
    "    elif month > 12:\n",
    "        print (date_str,\"is an invalid date. Max number of months is 12.\")\n",
    "    elif month in (4, 6, 9, 11) and day > 30:\n",
    "            print(date_str, \"is an invalid date. This is a 30-day month.\")\n",
    "    elif month in (1, 3, 5, 7, 8, 10, 12) and day > 31:\n",
    "            print(date_str, \"is an invalid date. This is a 31-day month.\")\n",
    "    else:\n",
    "        print (date_str, \"is a valid date\")\n",
    "\n",
    "def check_valid_date5():\n",
    "    date_str=\"2/29/1900\"\n",
    "    split_date=date_str.split(\"/\")\n",
    "\n",
    "    if len(split_date)==3:\n",
    "        date_split_int=[int(item) for item in split_date]\n",
    "        month,day,year=date_split_int\n",
    "\n",
    "    leap_year=False\n",
    "    if (year % 4 == 0 and year % 100 != 0) or (year % 400 == 0): leap_year=True\n",
    "\n",
    "    if month==2:\n",
    "            if month==2 and day==29 and leap_year:\n",
    "                print(date_str, \"is a valid date for February (leap year).\")\n",
    "            else:\n",
    "                print(date_str, \"is an invalid date.\")\n",
    "    elif month > 12:\n",
    "        print (date_str,\"is an invalid date. Max number of months is 12.\")\n",
    "    elif month in (4, 6, 9, 11) and day > 30:\n",
    "            print(date_str, \"is an invalid date. This is a 30-day month.\")\n",
    "    elif month in (1, 3, 5, 7, 8, 10, 12) and day > 31:\n",
    "            print(date_str, \"is an invalid date. This is a 31-day month.\")\n",
    "    else:\n",
    "        print (date_str, \"is a valid date.\")\n",
    "\n",
    "def check_valid_date6():\n",
    "    date_str=\"15/14/1912\"\n",
    "    split_date=date_str.split(\"/\")\n",
    "\n",
    "    if len(split_date)==3:\n",
    "        date_split_int=[int(item) for item in split_date]\n",
    "        month,day,year=date_split_int\n",
    "\n",
    "    leap_year=False\n",
    "    if (year % 4 == 0 and year % 100 != 0) or (year % 400 == 0): leap_year=True\n",
    "\n",
    "    if month==2:\n",
    "            if month==2 and day==29 and leap_year:\n",
    "                print(date_str, \"is a valid date for February (leap year).\")\n",
    "            else:\n",
    "                print(date_str, \"is an invalid date.\")\n",
    "    elif month > 12:\n",
    "        print (date_str,\"is an invalid date. Max number of months is 12.\")\n",
    "    elif month in (4, 6, 9, 11) and day > 30:\n",
    "            print(date_str, \"is an invalid date. This is a 30-day month.\")\n",
    "    elif month in (1, 3, 5, 7, 8, 10, 12) and day > 31:\n",
    "            print(date_str, \"is an invalid date. This is a 31-day month.\")\n",
    "    else:\n",
    "        print (date_str, \"is a valid date.\")"
   ]
  },
  {
   "cell_type": "code",
   "execution_count": 255,
   "metadata": {},
   "outputs": [
    {
     "name": "stdout",
     "output_type": "stream",
     "text": [
      "6/24/1989 is a valid date.\n",
      "2/29/2000 is a valid date for February (leap year).\n",
      "3/29/1960 is a valid date.\n",
      "11/39/1985 is an invalid date. This is a 30-day month.\n",
      "2/29/1900 is an invalid date.\n",
      "15/14/1912 is an invalid date. Max number of months is 12.\n"
     ]
    }
   ],
   "source": [
    "check_valid_date1()\n",
    "check_valid_date2()\n",
    "check_valid_date3()\n",
    "check_valid_date4()\n",
    "check_valid_date5()\n",
    "check_valid_date6()"
   ]
  },
  {
   "cell_type": "markdown",
   "metadata": {},
   "source": [
    "# Problem 5"
   ]
  },
  {
   "cell_type": "code",
   "execution_count": 2,
   "metadata": {},
   "outputs": [],
   "source": [
    "## Student Name: Lara Novic\n",
    "## Date: 10/15/2017\n",
    "## Homework 2, Problem 5, Methods in Computational Linguistics I, Fall 2017\n",
    "## Chapter 4, Programming Exercise 9 (page 127) \"Rectangle Information\"\n",
    "##\n",
    "## What Does this Program Do:\n",
    "## This program finds area and perimeter\n",
    "## of user-drawn rectangle\n",
    "## \n",
    "## Input:\n",
    "## points\n",
    "\n",
    "import graphics\n",
    "from graphics import *\n",
    "\n",
    "def rectangle_info():\n",
    "    win = GraphWin(\"Click on two points to create a rectangle\", 300, 300)\n",
    "    p1 = win.getMouse()\n",
    "    p1.draw(win)\n",
    "    p2 = win.getMouse()\n",
    "    p2.draw(win)\n",
    "    Rectangle(p1, p2).draw(win)\n",
    "\n",
    "    width = abs(p2.getX() - p1.getX())\n",
    "    height = abs(p2.getY() - p1.getY())\n",
    "\n",
    "    area = width * height\n",
    "    perimeter = 2 * (width + height)\n",
    "\n",
    "    print (\"Area of user-drawn rectangle:\",area,\"square pixels\")\n",
    "    print (\"Perimeter of user-drawn rectangle:\",perimeter,\"pixels\")"
   ]
  },
  {
   "cell_type": "code",
   "execution_count": 5,
   "metadata": {},
   "outputs": [
    {
     "name": "stdout",
     "output_type": "stream",
     "text": [
      "Area of user-drawn rectangle: 21600.0 square pixels\n",
      "Perimeter of user-drawn rectangle: 616.0 pixels\n"
     ]
    }
   ],
   "source": [
    "rectangle_info()"
   ]
  },
  {
   "cell_type": "code",
   "execution_count": null,
   "metadata": {
    "collapsed": true
   },
   "outputs": [],
   "source": []
  }
 ],
 "metadata": {
  "kernelspec": {
   "display_name": "Python 3",
   "language": "python",
   "name": "python3"
  },
  "language_info": {
   "codemirror_mode": {
    "name": "ipython",
    "version": 3
   },
   "file_extension": ".py",
   "mimetype": "text/x-python",
   "name": "python",
   "nbconvert_exporter": "python",
   "pygments_lexer": "ipython3",
   "version": "3.6.1"
  }
 },
 "nbformat": 4,
 "nbformat_minor": 2
}
